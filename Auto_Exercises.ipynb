{
 "cells": [
  {
   "cell_type": "markdown",
   "metadata": {},
   "source": [
    "# MPG Cars"
   ]
  },
  {
   "cell_type": "markdown",
   "metadata": {},
   "source": [
    "### Introduction:\n",
    "\n",
    "The following exercise utilizes data from [UC Irvine Machine Learning Repository](https://archive.ics.uci.edu/ml/datasets/Auto+MPG)\n",
    "\n",
    "### Step 1. Import the necessary libraries"
   ]
  },
  {
   "cell_type": "code",
   "execution_count": 1,
   "metadata": {},
   "outputs": [],
   "source": [
    "import pandas as pd\n",
    "import numpy as np"
   ]
  },
  {
   "cell_type": "markdown",
   "metadata": {},
   "source": [
    "### Step 2. Import the first dataset [cars1](https://raw.githubusercontent.com/guipsamora/pandas_exercises/master/05_Merge/Auto_MPG/cars1.csv) and [cars2](https://raw.githubusercontent.com/guipsamora/pandas_exercises/master/05_Merge/Auto_MPG/cars2.csv).  "
   ]
  },
  {
   "cell_type": "markdown",
   "metadata": {},
   "source": [
    "   ### Step 3. Assign each to a variable called cars1 and cars2"
   ]
  },
  {
   "cell_type": "code",
   "execution_count": 8,
   "metadata": {},
   "outputs": [
    {
     "data": {
      "text/html": [
       "<div>\n",
       "<style scoped>\n",
       "    .dataframe tbody tr th:only-of-type {\n",
       "        vertical-align: middle;\n",
       "    }\n",
       "\n",
       "    .dataframe tbody tr th {\n",
       "        vertical-align: top;\n",
       "    }\n",
       "\n",
       "    .dataframe thead th {\n",
       "        text-align: right;\n",
       "    }\n",
       "</style>\n",
       "<table border=\"1\" class=\"dataframe\">\n",
       "  <thead>\n",
       "    <tr style=\"text-align: right;\">\n",
       "      <th></th>\n",
       "      <th>mpg</th>\n",
       "      <th>cylinders</th>\n",
       "      <th>displacement</th>\n",
       "      <th>horsepower</th>\n",
       "      <th>weight</th>\n",
       "      <th>acceleration</th>\n",
       "      <th>model</th>\n",
       "      <th>origin</th>\n",
       "      <th>car</th>\n",
       "    </tr>\n",
       "  </thead>\n",
       "  <tbody>\n",
       "    <tr>\n",
       "      <th>0</th>\n",
       "      <td>33.0</td>\n",
       "      <td>4</td>\n",
       "      <td>91</td>\n",
       "      <td>53</td>\n",
       "      <td>1795</td>\n",
       "      <td>17.4</td>\n",
       "      <td>76</td>\n",
       "      <td>3</td>\n",
       "      <td>honda civic</td>\n",
       "    </tr>\n",
       "    <tr>\n",
       "      <th>1</th>\n",
       "      <td>20.0</td>\n",
       "      <td>6</td>\n",
       "      <td>225</td>\n",
       "      <td>100</td>\n",
       "      <td>3651</td>\n",
       "      <td>17.7</td>\n",
       "      <td>76</td>\n",
       "      <td>1</td>\n",
       "      <td>dodge aspen se</td>\n",
       "    </tr>\n",
       "    <tr>\n",
       "      <th>2</th>\n",
       "      <td>18.0</td>\n",
       "      <td>6</td>\n",
       "      <td>250</td>\n",
       "      <td>78</td>\n",
       "      <td>3574</td>\n",
       "      <td>21.0</td>\n",
       "      <td>76</td>\n",
       "      <td>1</td>\n",
       "      <td>ford granada ghia</td>\n",
       "    </tr>\n",
       "    <tr>\n",
       "      <th>3</th>\n",
       "      <td>18.5</td>\n",
       "      <td>6</td>\n",
       "      <td>250</td>\n",
       "      <td>110</td>\n",
       "      <td>3645</td>\n",
       "      <td>16.2</td>\n",
       "      <td>76</td>\n",
       "      <td>1</td>\n",
       "      <td>pontiac ventura sj</td>\n",
       "    </tr>\n",
       "    <tr>\n",
       "      <th>4</th>\n",
       "      <td>17.5</td>\n",
       "      <td>6</td>\n",
       "      <td>258</td>\n",
       "      <td>95</td>\n",
       "      <td>3193</td>\n",
       "      <td>17.8</td>\n",
       "      <td>76</td>\n",
       "      <td>1</td>\n",
       "      <td>amc pacer d/l</td>\n",
       "    </tr>\n",
       "  </tbody>\n",
       "</table>\n",
       "</div>"
      ],
      "text/plain": [
       "    mpg  cylinders  displacement horsepower  weight  acceleration  model  \\\n",
       "0  33.0          4            91         53    1795          17.4     76   \n",
       "1  20.0          6           225        100    3651          17.7     76   \n",
       "2  18.0          6           250         78    3574          21.0     76   \n",
       "3  18.5          6           250        110    3645          16.2     76   \n",
       "4  17.5          6           258         95    3193          17.8     76   \n",
       "\n",
       "   origin                 car  \n",
       "0       3         honda civic  \n",
       "1       1      dodge aspen se  \n",
       "2       1   ford granada ghia  \n",
       "3       1  pontiac ventura sj  \n",
       "4       1       amc pacer d/l  "
      ]
     },
     "execution_count": 8,
     "metadata": {},
     "output_type": "execute_result"
    }
   ],
   "source": [
    "cars1 = pd.read_csv('cars1.csv', sep=',')\n",
    "cars2 = pd.read_csv('cars2.csv', sep=',')\n",
    "\n",
    "cars2.head()"
   ]
  },
  {
   "cell_type": "markdown",
   "metadata": {},
   "source": [
    "### Step 4. Oops, it seems our first dataset has some unnamed blank columns, fix cars1"
   ]
  },
  {
   "cell_type": "code",
   "execution_count": 14,
   "metadata": {},
   "outputs": [],
   "source": [
    "cars1 = cars1.loc[:, 'mpg':'car']"
   ]
  },
  {
   "cell_type": "markdown",
   "metadata": {},
   "source": [
    "### Step 5. What is the number of observations in each dataset?"
   ]
  },
  {
   "cell_type": "code",
   "execution_count": 15,
   "metadata": {},
   "outputs": [
    {
     "name": "stdout",
     "output_type": "stream",
     "text": [
      "(198, 9)\n",
      "(200, 9)\n"
     ]
    }
   ],
   "source": [
    "print(cars1.shape)\n",
    "print(cars2.shape)"
   ]
  },
  {
   "cell_type": "markdown",
   "metadata": {},
   "source": [
    "### Step 6. Join cars1 and cars2 into a single DataFrame called cars"
   ]
  },
  {
   "cell_type": "code",
   "execution_count": 16,
   "metadata": {},
   "outputs": [
    {
     "data": {
      "text/plain": [
       "(398, 9)"
      ]
     },
     "execution_count": 16,
     "metadata": {},
     "output_type": "execute_result"
    }
   ],
   "source": [
    "cars = cars1.append(cars2)\n",
    "cars\n",
    "cars.shape"
   ]
  },
  {
   "cell_type": "markdown",
   "metadata": {},
   "source": [
    "### Step 7. Oops, there is a column missing, called owners. Create a random number Series from 15,000 to 73,000."
   ]
  },
  {
   "cell_type": "code",
   "execution_count": 19,
   "metadata": {},
   "outputs": [
    {
     "name": "stdout",
     "output_type": "stream",
     "text": [
      "[72097 35407 23670 68480 33094 26136 34547 55433 19325 22912 58008 26537\n",
      " 52853 21461 50700 41302 18571 60327 57407 70169 17830 45557 55089 53552\n",
      " 16789 55750 61327 25050 41573 33765 66801 71717 45723 63486 31528 50941\n",
      " 62810 39464 42215 44307 60408 51441 50882 49686 33278 60849 61147 57456\n",
      " 33272 53278 43849 53372 42139 70587 19233 43553 58841 34129 50775 30567\n",
      " 68697 43063 48112 60530 72806 66000 32802 42148 22942 16310 48947 59652\n",
      " 44231 22167 36990 29131 34320 62110 45487 56388 26741 53795 25136 44239\n",
      " 23343 62537 17324 31289 24837 16403 71735 56916 26038 18214 16123 27636\n",
      " 28387 29551 43313 51071 71897 25042 38818 46006 45261 19982 34685 44125\n",
      " 57506 24186 52454 69834 39845 20246 68400 33023 61546 59717 28119 34821\n",
      " 68547 42593 33299 34548 28721 42272 27634 69891 61390 17726 41678 53077\n",
      " 60008 23808 31983 70958 53252 63742 48766 30094 68160 15256 68478 50278\n",
      " 66108 36416 69394 49172 35180 54066 18675 54310 32088 58154 33074 54388\n",
      " 58847 20912 37921 16293 42995 53159 60226 39572 46015 46454 57418 57212\n",
      " 67934 48775 23248 40162 53721 26658 42613 44265 25391 72435 34215 48138\n",
      " 29761 39198 66339 31344 29345 30371 21618 15710 45581 54286 70983 63430\n",
      " 71281 39471 65238 54779 47912 20389 17266 43475 45765 19682 63833 56006\n",
      " 51821 72850 29028 23608 17918 23656 71016 45567 67405 22842 18742 53760\n",
      " 67879 33104 70856 43010 31501 59419 65984 16595 29247 33706 19424 44168\n",
      " 20903 51086 49852 42042 42282 31684 22570 52399 22763 28953 57446 15567\n",
      " 29914 33836 24013 66682 34772 65943 53021 22086 68483 43364 23571 41949\n",
      " 59214 24834 63855 21736 55297 55402 58654 50895 61477 66491 49416 72579\n",
      " 69178 36930 66608 59810 69894 43810 69385 56545 54316 32686 65065 70305\n",
      " 24970 62585 49193 58105 38689 59092 45194 72751 48782 69445 48705 24157\n",
      " 37472 30117 66274 15741 70423 45769 40644 40389 28977 25936 31410 54414\n",
      " 20315 46448 49080 30115 19271 67135 64647 37268 51982 55965 68728 24636\n",
      " 70492 46965 55592 52674 27706 62829 34608 21179 40648 27644 71972 63810\n",
      " 47187 20840 15580 27750 20799 15861 35016 28435 30599 16027 15598 52069\n",
      " 34358 56025 69742 41234 60158 15595 37436 15295 53773 55098 29969 25914\n",
      " 61183 43469 60166 37384 33619 55773 72386 27117 71823 44724 57065 40722\n",
      " 33783 32009 21601 16264 41393 49442 47523 28618 29258 33302 65059 26552\n",
      " 58868 28657 20806 26829 36538 30022 61737 42120 58185 46562 66075 72723\n",
      " 50036 55369 63229 56984 25677 44608 42181 58922 67778 34136 42122 43936\n",
      " 70511 58111]\n"
     ]
    }
   ],
   "source": [
    "nr_owners = np.random.randint(15000, high=73001, size= 398, dtype='l')\n",
    "print(nr_owners)"
   ]
  },
  {
   "cell_type": "markdown",
   "metadata": {},
   "source": [
    "### Step 8. Add the column owners to cars"
   ]
  },
  {
   "cell_type": "code",
   "execution_count": null,
   "metadata": {},
   "outputs": [],
   "source": []
  }
 ],
 "metadata": {
  "anaconda-cloud": {},
  "kernelspec": {
   "display_name": "Python 3",
   "language": "python",
   "name": "python3"
  },
  "language_info": {
   "codemirror_mode": {
    "name": "ipython",
    "version": 3
   },
   "file_extension": ".py",
   "mimetype": "text/x-python",
   "name": "python",
   "nbconvert_exporter": "python",
   "pygments_lexer": "ipython3",
   "version": "3.8.3"
  }
 },
 "nbformat": 4,
 "nbformat_minor": 1
}
